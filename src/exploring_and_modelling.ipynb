{
 "cells": [
  {
   "cell_type": "markdown",
   "metadata": {},
   "source": [
    "# Data Exploration/Visualisation and Modelling\n",
    "\n",
    "The first part will be exploring and visualising the data. I'll look into the relationships between the variables that will be used for modelling. \n",
    "\n",
    "### Part 1\n",
    "### Data Exploration and Visualisation"
   ]
  },
  {
   "cell_type": "code",
   "execution_count": 15,
   "metadata": {},
   "outputs": [],
   "source": [
    "import pandas as pd\n",
    "import numpy as np\n",
    "import matplotlib.pyplot as plt\n",
    "import seaborn as sns\n",
    "\n",
    "# importing functions needed from py files\n",
    "from cleaning import full_clean\n",
    "from main import split_data, linear_regression\n",
    "\n",
    "%matplotlib inline"
   ]
  },
  {
   "cell_type": "code",
   "execution_count": 2,
   "metadata": {},
   "outputs": [
    {
     "data": {
      "text/html": [
       "<div>\n",
       "<style scoped>\n",
       "    .dataframe tbody tr th:only-of-type {\n",
       "        vertical-align: middle;\n",
       "    }\n",
       "\n",
       "    .dataframe tbody tr th {\n",
       "        vertical-align: top;\n",
       "    }\n",
       "\n",
       "    .dataframe thead th {\n",
       "        text-align: right;\n",
       "    }\n",
       "</style>\n",
       "<table border=\"1\" class=\"dataframe\">\n",
       "  <thead>\n",
       "    <tr style=\"text-align: right;\">\n",
       "      <th></th>\n",
       "      <th>Unnamed: 0</th>\n",
       "      <th>price</th>\n",
       "      <th>area</th>\n",
       "      <th>rooms</th>\n",
       "      <th>flat</th>\n",
       "      <th>house</th>\n",
       "      <th>new_dev</th>\n",
       "      <th>penthouse</th>\n",
       "    </tr>\n",
       "  </thead>\n",
       "  <tbody>\n",
       "    <tr>\n",
       "      <th>0</th>\n",
       "      <td>0</td>\n",
       "      <td>1675000.0</td>\n",
       "      <td>2716.0</td>\n",
       "      <td>5.0</td>\n",
       "      <td>0</td>\n",
       "      <td>1</td>\n",
       "      <td>0</td>\n",
       "      <td>0</td>\n",
       "    </tr>\n",
       "    <tr>\n",
       "      <th>1</th>\n",
       "      <td>1</td>\n",
       "      <td>650000.0</td>\n",
       "      <td>814.0</td>\n",
       "      <td>2.0</td>\n",
       "      <td>1</td>\n",
       "      <td>0</td>\n",
       "      <td>0</td>\n",
       "      <td>0</td>\n",
       "    </tr>\n",
       "    <tr>\n",
       "      <th>2</th>\n",
       "      <td>2</td>\n",
       "      <td>735000.0</td>\n",
       "      <td>761.0</td>\n",
       "      <td>2.0</td>\n",
       "      <td>1</td>\n",
       "      <td>0</td>\n",
       "      <td>0</td>\n",
       "      <td>0</td>\n",
       "    </tr>\n",
       "    <tr>\n",
       "      <th>3</th>\n",
       "      <td>3</td>\n",
       "      <td>1765000.0</td>\n",
       "      <td>1986.0</td>\n",
       "      <td>4.0</td>\n",
       "      <td>0</td>\n",
       "      <td>1</td>\n",
       "      <td>0</td>\n",
       "      <td>0</td>\n",
       "    </tr>\n",
       "    <tr>\n",
       "      <th>4</th>\n",
       "      <td>4</td>\n",
       "      <td>675000.0</td>\n",
       "      <td>700.0</td>\n",
       "      <td>2.0</td>\n",
       "      <td>1</td>\n",
       "      <td>0</td>\n",
       "      <td>0</td>\n",
       "      <td>0</td>\n",
       "    </tr>\n",
       "  </tbody>\n",
       "</table>\n",
       "</div>"
      ],
      "text/plain": [
       "   Unnamed: 0      price    area  rooms  flat  house  new_dev  penthouse\n",
       "0           0  1675000.0  2716.0    5.0     0      1        0          0\n",
       "1           1   650000.0   814.0    2.0     1      0        0          0\n",
       "2           2   735000.0   761.0    2.0     1      0        0          0\n",
       "3           3  1765000.0  1986.0    4.0     0      1        0          0\n",
       "4           4   675000.0   700.0    2.0     1      0        0          0"
      ]
     },
     "execution_count": 2,
     "metadata": {},
     "output_type": "execute_result"
    }
   ],
   "source": [
    "# Using function from py file: See cleaning.py for functions used for cleaning\n",
    "df = full_clean()\n",
    "df.head(5)"
   ]
  },
  {
   "cell_type": "code",
   "execution_count": 3,
   "metadata": {},
   "outputs": [
    {
     "name": "stdout",
     "output_type": "stream",
     "text": [
      "<class 'pandas.core.frame.DataFrame'>\n",
      "Int64Index: 2972 entries, 0 to 3479\n",
      "Data columns (total 8 columns):\n",
      " #   Column      Non-Null Count  Dtype  \n",
      "---  ------      --------------  -----  \n",
      " 0   Unnamed: 0  2972 non-null   int64  \n",
      " 1   price       2972 non-null   float64\n",
      " 2   area        2972 non-null   float64\n",
      " 3   rooms       2972 non-null   float64\n",
      " 4   flat        2972 non-null   uint8  \n",
      " 5   house       2972 non-null   uint8  \n",
      " 6   new_dev     2972 non-null   uint8  \n",
      " 7   penthouse   2972 non-null   uint8  \n",
      "dtypes: float64(3), int64(1), uint8(4)\n",
      "memory usage: 127.7 KB\n"
     ]
    }
   ],
   "source": [
    "#There is 2972 houses left in the cleaned dataset\n",
    "df.info()"
   ]
  },
  {
   "cell_type": "code",
   "execution_count": 4,
   "metadata": {},
   "outputs": [
    {
     "data": {
      "text/html": [
       "<div>\n",
       "<style scoped>\n",
       "    .dataframe tbody tr th:only-of-type {\n",
       "        vertical-align: middle;\n",
       "    }\n",
       "\n",
       "    .dataframe tbody tr th {\n",
       "        vertical-align: top;\n",
       "    }\n",
       "\n",
       "    .dataframe thead th {\n",
       "        text-align: right;\n",
       "    }\n",
       "</style>\n",
       "<table border=\"1\" class=\"dataframe\">\n",
       "  <thead>\n",
       "    <tr style=\"text-align: right;\">\n",
       "      <th></th>\n",
       "      <th>Unnamed: 0</th>\n",
       "      <th>price</th>\n",
       "      <th>area</th>\n",
       "      <th>rooms</th>\n",
       "      <th>flat</th>\n",
       "      <th>house</th>\n",
       "      <th>new_dev</th>\n",
       "      <th>penthouse</th>\n",
       "    </tr>\n",
       "  </thead>\n",
       "  <tbody>\n",
       "    <tr>\n",
       "      <th>Unnamed: 0</th>\n",
       "      <td>1.000000</td>\n",
       "      <td>0.148249</td>\n",
       "      <td>0.080020</td>\n",
       "      <td>-0.017587</td>\n",
       "      <td>0.067192</td>\n",
       "      <td>-0.116775</td>\n",
       "      <td>0.055392</td>\n",
       "      <td>0.055512</td>\n",
       "    </tr>\n",
       "    <tr>\n",
       "      <th>price</th>\n",
       "      <td>0.148249</td>\n",
       "      <td>1.000000</td>\n",
       "      <td>0.758341</td>\n",
       "      <td>0.452313</td>\n",
       "      <td>-0.260532</td>\n",
       "      <td>0.204825</td>\n",
       "      <td>0.060066</td>\n",
       "      <td>0.095589</td>\n",
       "    </tr>\n",
       "    <tr>\n",
       "      <th>area</th>\n",
       "      <td>0.080020</td>\n",
       "      <td>0.758341</td>\n",
       "      <td>1.000000</td>\n",
       "      <td>0.789078</td>\n",
       "      <td>-0.474500</td>\n",
       "      <td>0.516561</td>\n",
       "      <td>-0.048327</td>\n",
       "      <td>0.039725</td>\n",
       "    </tr>\n",
       "    <tr>\n",
       "      <th>rooms</th>\n",
       "      <td>-0.017587</td>\n",
       "      <td>0.452313</td>\n",
       "      <td>0.789078</td>\n",
       "      <td>1.000000</td>\n",
       "      <td>-0.580753</td>\n",
       "      <td>0.711474</td>\n",
       "      <td>-0.139927</td>\n",
       "      <td>-0.022382</td>\n",
       "    </tr>\n",
       "    <tr>\n",
       "      <th>flat</th>\n",
       "      <td>0.067192</td>\n",
       "      <td>-0.260532</td>\n",
       "      <td>-0.474500</td>\n",
       "      <td>-0.580753</td>\n",
       "      <td>1.000000</td>\n",
       "      <td>-0.755651</td>\n",
       "      <td>-0.328792</td>\n",
       "      <td>-0.183312</td>\n",
       "    </tr>\n",
       "    <tr>\n",
       "      <th>house</th>\n",
       "      <td>-0.116775</td>\n",
       "      <td>0.204825</td>\n",
       "      <td>0.516561</td>\n",
       "      <td>0.711474</td>\n",
       "      <td>-0.755651</td>\n",
       "      <td>1.000000</td>\n",
       "      <td>-0.249457</td>\n",
       "      <td>-0.139080</td>\n",
       "    </tr>\n",
       "    <tr>\n",
       "      <th>new_dev</th>\n",
       "      <td>0.055392</td>\n",
       "      <td>0.060066</td>\n",
       "      <td>-0.048327</td>\n",
       "      <td>-0.139927</td>\n",
       "      <td>-0.328792</td>\n",
       "      <td>-0.249457</td>\n",
       "      <td>1.000000</td>\n",
       "      <td>-0.060515</td>\n",
       "    </tr>\n",
       "    <tr>\n",
       "      <th>penthouse</th>\n",
       "      <td>0.055512</td>\n",
       "      <td>0.095589</td>\n",
       "      <td>0.039725</td>\n",
       "      <td>-0.022382</td>\n",
       "      <td>-0.183312</td>\n",
       "      <td>-0.139080</td>\n",
       "      <td>-0.060515</td>\n",
       "      <td>1.000000</td>\n",
       "    </tr>\n",
       "  </tbody>\n",
       "</table>\n",
       "</div>"
      ],
      "text/plain": [
       "            Unnamed: 0     price      area     rooms      flat     house  \\\n",
       "Unnamed: 0    1.000000  0.148249  0.080020 -0.017587  0.067192 -0.116775   \n",
       "price         0.148249  1.000000  0.758341  0.452313 -0.260532  0.204825   \n",
       "area          0.080020  0.758341  1.000000  0.789078 -0.474500  0.516561   \n",
       "rooms        -0.017587  0.452313  0.789078  1.000000 -0.580753  0.711474   \n",
       "flat          0.067192 -0.260532 -0.474500 -0.580753  1.000000 -0.755651   \n",
       "house        -0.116775  0.204825  0.516561  0.711474 -0.755651  1.000000   \n",
       "new_dev       0.055392  0.060066 -0.048327 -0.139927 -0.328792 -0.249457   \n",
       "penthouse     0.055512  0.095589  0.039725 -0.022382 -0.183312 -0.139080   \n",
       "\n",
       "             new_dev  penthouse  \n",
       "Unnamed: 0  0.055392   0.055512  \n",
       "price       0.060066   0.095589  \n",
       "area       -0.048327   0.039725  \n",
       "rooms      -0.139927  -0.022382  \n",
       "flat       -0.328792  -0.183312  \n",
       "house      -0.249457  -0.139080  \n",
       "new_dev     1.000000  -0.060515  \n",
       "penthouse  -0.060515   1.000000  "
      ]
     },
     "execution_count": 4,
     "metadata": {},
     "output_type": "execute_result"
    }
   ],
   "source": [
    "#Checking the correlations between the variables that will be used for modelling\n",
    "corr = df.corr()\n",
    "corr"
   ]
  },
  {
   "cell_type": "code",
   "execution_count": 5,
   "metadata": {},
   "outputs": [
    {
     "data": {
      "image/png": "[encoded data removed]",
      "text/plain": [
       "<Figure size 432x288 with 2 Axes>"
      ]
     },
     "metadata": {
      "needs_background": "light"
     },
     "output_type": "display_data"
    }
   ],
   "source": [
    "sns.heatmap(corr, cmap=\"YlGnBu\");\n",
    "plt.title(\"Correlation Heatmap\");"
   ]
  },
  {
   "cell_type": "markdown",
   "metadata": {},
   "source": [
    "The strongest correlation between features and price is area. Then as expected, area has a strong correlation with number of rooms and house type. \n",
    "It looks like there is multicollinearity between area and rooms (0.789078). So both these variables will not be used in the modelling."
   ]
  },
  {
   "cell_type": "code",
   "execution_count": 6,
   "metadata": {},
   "outputs": [
    {
     "data": {
      "image/png": "[encoded data removed]",
      "text/plain": [
       "<Figure size 432x288 with 1 Axes>"
      ]
     },
     "metadata": {
      "needs_background": "light"
     },
     "output_type": "display_data"
    }
   ],
   "source": [
    "sns.scatterplot(data=df, x = \"area\", y = \"price\", alpha = 0.5);\n",
    "plt.title(\"Area vs Price Scatterplot\");"
   ]
  },
  {
   "cell_type": "code",
   "execution_count": 7,
   "metadata": {},
   "outputs": [
    {
     "data": {
      "image/png": "[encoded data removed]",
      "text/plain": [
       "<Figure size 432x288 with 1 Axes>"
      ]
     },
     "metadata": {
      "needs_background": "light"
     },
     "output_type": "display_data"
    }
   ],
   "source": [
    "sns.regplot(data=df, x = \"rooms\", y = \"price\");\n",
    "plt.title(\"Rooms vs Price Scatterplot\");"
   ]
  },
  {
   "cell_type": "code",
   "execution_count": 8,
   "metadata": {},
   "outputs": [
    {
     "data": {
      "text/html": [
       "<div>\n",
       "<style scoped>\n",
       "    .dataframe tbody tr th:only-of-type {\n",
       "        vertical-align: middle;\n",
       "    }\n",
       "\n",
       "    .dataframe tbody tr th {\n",
       "        vertical-align: top;\n",
       "    }\n",
       "\n",
       "    .dataframe thead th {\n",
       "        text-align: right;\n",
       "    }\n",
       "</style>\n",
       "<table border=\"1\" class=\"dataframe\">\n",
       "  <thead>\n",
       "    <tr style=\"text-align: right;\">\n",
       "      <th></th>\n",
       "      <th>count</th>\n",
       "      <th>mean</th>\n",
       "      <th>std</th>\n",
       "      <th>min</th>\n",
       "      <th>25%</th>\n",
       "      <th>50%</th>\n",
       "      <th>75%</th>\n",
       "      <th>max</th>\n",
       "    </tr>\n",
       "    <tr>\n",
       "      <th>rooms</th>\n",
       "      <th></th>\n",
       "      <th></th>\n",
       "      <th></th>\n",
       "      <th></th>\n",
       "      <th></th>\n",
       "      <th></th>\n",
       "      <th></th>\n",
       "      <th></th>\n",
       "    </tr>\n",
       "  </thead>\n",
       "  <tbody>\n",
       "    <tr>\n",
       "      <th>0.0</th>\n",
       "      <td>10.0</td>\n",
       "      <td>3.718000e+05</td>\n",
       "      <td>1.105298e+05</td>\n",
       "      <td>210000.0</td>\n",
       "      <td>295000.0</td>\n",
       "      <td>367500.0</td>\n",
       "      <td>450000.0</td>\n",
       "      <td>573000.0</td>\n",
       "    </tr>\n",
       "    <tr>\n",
       "      <th>1.0</th>\n",
       "      <td>393.0</td>\n",
       "      <td>6.337233e+05</td>\n",
       "      <td>3.321535e+05</td>\n",
       "      <td>249999.0</td>\n",
       "      <td>450000.0</td>\n",
       "      <td>550000.0</td>\n",
       "      <td>725000.0</td>\n",
       "      <td>3950000.0</td>\n",
       "    </tr>\n",
       "    <tr>\n",
       "      <th>2.0</th>\n",
       "      <td>998.0</td>\n",
       "      <td>1.136260e+06</td>\n",
       "      <td>1.050752e+06</td>\n",
       "      <td>180000.0</td>\n",
       "      <td>650000.0</td>\n",
       "      <td>849999.5</td>\n",
       "      <td>1200000.0</td>\n",
       "      <td>12950000.0</td>\n",
       "    </tr>\n",
       "    <tr>\n",
       "      <th>3.0</th>\n",
       "      <td>621.0</td>\n",
       "      <td>2.067601e+06</td>\n",
       "      <td>1.909339e+06</td>\n",
       "      <td>399950.0</td>\n",
       "      <td>925000.0</td>\n",
       "      <td>1395000.0</td>\n",
       "      <td>2450000.0</td>\n",
       "      <td>16000000.0</td>\n",
       "    </tr>\n",
       "    <tr>\n",
       "      <th>4.0</th>\n",
       "      <td>450.0</td>\n",
       "      <td>2.461119e+06</td>\n",
       "      <td>2.161811e+06</td>\n",
       "      <td>500000.0</td>\n",
       "      <td>1296250.0</td>\n",
       "      <td>1695000.0</td>\n",
       "      <td>2750000.0</td>\n",
       "      <td>18950000.0</td>\n",
       "    </tr>\n",
       "    <tr>\n",
       "      <th>5.0</th>\n",
       "      <td>340.0</td>\n",
       "      <td>3.201932e+06</td>\n",
       "      <td>3.759774e+06</td>\n",
       "      <td>795000.0</td>\n",
       "      <td>1668750.0</td>\n",
       "      <td>2150000.0</td>\n",
       "      <td>3000000.0</td>\n",
       "      <td>39750000.0</td>\n",
       "    </tr>\n",
       "    <tr>\n",
       "      <th>6.0</th>\n",
       "      <td>116.0</td>\n",
       "      <td>4.382780e+06</td>\n",
       "      <td>4.066925e+06</td>\n",
       "      <td>1250000.0</td>\n",
       "      <td>2450000.0</td>\n",
       "      <td>2970000.0</td>\n",
       "      <td>4800000.0</td>\n",
       "      <td>34000000.0</td>\n",
       "    </tr>\n",
       "    <tr>\n",
       "      <th>7.0</th>\n",
       "      <td>33.0</td>\n",
       "      <td>5.805303e+06</td>\n",
       "      <td>5.835882e+06</td>\n",
       "      <td>1550000.0</td>\n",
       "      <td>2700000.0</td>\n",
       "      <td>3500000.0</td>\n",
       "      <td>4950000.0</td>\n",
       "      <td>23950000.0</td>\n",
       "    </tr>\n",
       "    <tr>\n",
       "      <th>8.0</th>\n",
       "      <td>7.0</td>\n",
       "      <td>6.292857e+06</td>\n",
       "      <td>2.089144e+06</td>\n",
       "      <td>3100000.0</td>\n",
       "      <td>5250000.0</td>\n",
       "      <td>5950000.0</td>\n",
       "      <td>7500000.0</td>\n",
       "      <td>9500000.0</td>\n",
       "    </tr>\n",
       "    <tr>\n",
       "      <th>9.0</th>\n",
       "      <td>3.0</td>\n",
       "      <td>1.241667e+07</td>\n",
       "      <td>6.094738e+06</td>\n",
       "      <td>5500000.0</td>\n",
       "      <td>10125000.0</td>\n",
       "      <td>14750000.0</td>\n",
       "      <td>15874999.5</td>\n",
       "      <td>16999999.0</td>\n",
       "    </tr>\n",
       "    <tr>\n",
       "      <th>10.0</th>\n",
       "      <td>1.0</td>\n",
       "      <td>9.975000e+06</td>\n",
       "      <td>NaN</td>\n",
       "      <td>9975000.0</td>\n",
       "      <td>9975000.0</td>\n",
       "      <td>9975000.0</td>\n",
       "      <td>9975000.0</td>\n",
       "      <td>9975000.0</td>\n",
       "    </tr>\n",
       "  </tbody>\n",
       "</table>\n",
       "</div>"
      ],
      "text/plain": [
       "       count          mean           std        min         25%         50%  \\\n",
       "rooms                                                                         \n",
       "0.0     10.0  3.718000e+05  1.105298e+05   210000.0    295000.0    367500.0   \n",
       "1.0    393.0  6.337233e+05  3.321535e+05   249999.0    450000.0    550000.0   \n",
       "2.0    998.0  1.136260e+06  1.050752e+06   180000.0    650000.0    849999.5   \n",
       "3.0    621.0  2.067601e+06  1.909339e+06   399950.0    925000.0   1395000.0   \n",
       "4.0    450.0  2.461119e+06  2.161811e+06   500000.0   1296250.0   1695000.0   \n",
       "5.0    340.0  3.201932e+06  3.759774e+06   795000.0   1668750.0   2150000.0   \n",
       "6.0    116.0  4.382780e+06  4.066925e+06  1250000.0   2450000.0   2970000.0   \n",
       "7.0     33.0  5.805303e+06  5.835882e+06  1550000.0   2700000.0   3500000.0   \n",
       "8.0      7.0  6.292857e+06  2.089144e+06  3100000.0   5250000.0   5950000.0   \n",
       "9.0      3.0  1.241667e+07  6.094738e+06  5500000.0  10125000.0  14750000.0   \n",
       "10.0     1.0  9.975000e+06           NaN  9975000.0   9975000.0   9975000.0   \n",
       "\n",
       "              75%         max  \n",
       "rooms                          \n",
       "0.0      450000.0    573000.0  \n",
       "1.0      725000.0   3950000.0  \n",
       "2.0     1200000.0  12950000.0  \n",
       "3.0     2450000.0  16000000.0  \n",
       "4.0     2750000.0  18950000.0  \n",
       "5.0     3000000.0  39750000.0  \n",
       "6.0     4800000.0  34000000.0  \n",
       "7.0     4950000.0  23950000.0  \n",
       "8.0     7500000.0   9500000.0  \n",
       "9.0    15874999.5  16999999.0  \n",
       "10.0    9975000.0   9975000.0  "
      ]
     },
     "execution_count": 8,
     "metadata": {},
     "output_type": "execute_result"
    }
   ],
   "source": [
    "#Data for number of rooms and stats for price\n",
    "df.groupby([\"rooms\"])[\"price\"].describe()"
   ]
  },
  {
   "cell_type": "markdown",
   "metadata": {},
   "source": [
    "After exploring the data further and analysing the table above. Number of rooms will not be used in the modelling. The variables that will be used will be area and house type."
   ]
  },
  {
   "cell_type": "markdown",
   "metadata": {},
   "source": [
    "### Part 2: Linear Regression: Modelling and Results\n",
    "\n"
   ]
  },
  {
   "cell_type": "markdown",
   "metadata": {},
   "source": [
    "Please see main.py for the splitting and modelling functions."
   ]
  },
  {
   "cell_type": "code",
   "execution_count": 27,
   "metadata": {},
   "outputs": [],
   "source": [
    "X_train, X_test, y_train, y_test = split_data(df)"
   ]
  },
  {
   "cell_type": "code",
   "execution_count": 28,
   "metadata": {},
   "outputs": [],
   "source": [
    "linear_reg = linear_regression(X_train, X_test, y_train, y_test)"
   ]
  },
  {
   "cell_type": "code",
   "execution_count": 29,
   "metadata": {},
   "outputs": [],
   "source": [
    "lr_r2, y_test, y_pred = linear_reg[0],linear_reg[1],linear_reg[2]"
   ]
  },
  {
   "cell_type": "code",
   "execution_count": 37,
   "metadata": {},
   "outputs": [
    {
     "name": "stdout",
     "output_type": "stream",
     "text": [
      "R2 score: 0.65\n"
     ]
    }
   ],
   "source": [
    "print(\"R2 score: {}\".format(lr_r2.round(2)))"
   ]
  },
  {
   "cell_type": "code",
   "execution_count": 35,
   "metadata": {},
   "outputs": [
    {
     "name": "stderr",
     "output_type": "stream",
     "text": [
      "C:\\Users\\ellio\\Anaconda3\\lib\\site-packages\\seaborn\\_decorators.py:36: FutureWarning: Pass the following variables as keyword args: x, y. From version 0.12, the only valid positional argument will be `data`, and passing other arguments without an explicit keyword will result in an error or misinterpretation.\n",
      "  warnings.warn(\n"
     ]
    },
    {
     "data": {
      "image/png": "[encoded data removed]",
      "text/plain": [
       "<Figure size 432x288 with 1 Axes>"
      ]
     },
     "metadata": {
      "needs_background": "light"
     },
     "output_type": "display_data"
    }
   ],
   "source": [
    "sns.scatterplot(y_test, y_pred, alpha=0.5);\n",
    "plt.ylabel(\"Price Y Predict\");\n",
    "plt.xlabel(\"Price Y Test\");\n",
    "plt.title(\"Test vs Predict Price\");"
   ]
  }
 ],
 "metadata": {
  "kernelspec": {
   "display_name": "Python 3",
   "language": "python",
   "name": "python3"
  },
  "language_info": {
   "codemirror_mode": {
    "name": "ipython",
    "version": 3
   },
   "file_extension": ".py",
   "mimetype": "text/x-python",
   "name": "python",
   "nbconvert_exporter": "python",
   "pygments_lexer": "ipython3",
   "version": "3.8.5"
  }
 },
 "nbformat": 4,
 "nbformat_minor": 4
}
