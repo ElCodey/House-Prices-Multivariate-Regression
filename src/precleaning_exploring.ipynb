{
 "cells": [
  {
   "cell_type": "code",
   "execution_count": 13,
   "metadata": {},
   "outputs": [],
   "source": [
    "#Import libraries\n",
    "import pandas as pd"
   ]
  },
  {
   "cell_type": "markdown",
   "metadata": {},
   "source": [
    "# Precleaning Exploring\n",
    "This section will just be looking at the dataset. The dataset is taken from https://www.kaggle.com/arnavkulkarni/housing-prices-in-london.\n",
    "\n",
    "The main objective here is to explore the dataset and make note of what needs to be cleaned. The cleaning will be done in a seperate python file. The goal of this project is to predict house prices in London and make recommendations based on a price/budget, to give the user an idea of location and size. So the focus will be on keeping features that could potentially have a big impact of the price of the house."
   ]
  },
  {
   "cell_type": "code",
   "execution_count": 14,
   "metadata": {},
   "outputs": [
    {
     "data": {
      "text/html": [
       "<div>\n",
       "<style scoped>\n",
       "    .dataframe tbody tr th:only-of-type {\n",
       "        vertical-align: middle;\n",
       "    }\n",
       "\n",
       "    .dataframe tbody tr th {\n",
       "        vertical-align: top;\n",
       "    }\n",
       "\n",
       "    .dataframe thead th {\n",
       "        text-align: right;\n",
       "    }\n",
       "</style>\n",
       "<table border=\"1\" class=\"dataframe\">\n",
       "  <thead>\n",
       "    <tr style=\"text-align: right;\">\n",
       "      <th></th>\n",
       "      <th>Unnamed: 0</th>\n",
       "      <th>Property Name</th>\n",
       "      <th>Price</th>\n",
       "      <th>House Type</th>\n",
       "      <th>Area in sq ft</th>\n",
       "      <th>No. of Bedrooms</th>\n",
       "      <th>No. of Bathrooms</th>\n",
       "      <th>No. of Receptions</th>\n",
       "      <th>Location</th>\n",
       "      <th>City/County</th>\n",
       "      <th>Postal Code</th>\n",
       "    </tr>\n",
       "  </thead>\n",
       "  <tbody>\n",
       "    <tr>\n",
       "      <th>0</th>\n",
       "      <td>0</td>\n",
       "      <td>Queens Road</td>\n",
       "      <td>1675000</td>\n",
       "      <td>House</td>\n",
       "      <td>2716</td>\n",
       "      <td>5</td>\n",
       "      <td>5</td>\n",
       "      <td>5</td>\n",
       "      <td>Wimbledon</td>\n",
       "      <td>London</td>\n",
       "      <td>SW19 8NY</td>\n",
       "    </tr>\n",
       "    <tr>\n",
       "      <th>1</th>\n",
       "      <td>1</td>\n",
       "      <td>Seward Street</td>\n",
       "      <td>650000</td>\n",
       "      <td>Flat / Apartment</td>\n",
       "      <td>814</td>\n",
       "      <td>2</td>\n",
       "      <td>2</td>\n",
       "      <td>2</td>\n",
       "      <td>Clerkenwell</td>\n",
       "      <td>London</td>\n",
       "      <td>EC1V 3PA</td>\n",
       "    </tr>\n",
       "    <tr>\n",
       "      <th>2</th>\n",
       "      <td>2</td>\n",
       "      <td>Hotham Road</td>\n",
       "      <td>735000</td>\n",
       "      <td>Flat / Apartment</td>\n",
       "      <td>761</td>\n",
       "      <td>2</td>\n",
       "      <td>2</td>\n",
       "      <td>2</td>\n",
       "      <td>Putney</td>\n",
       "      <td>London</td>\n",
       "      <td>SW15 1QL</td>\n",
       "    </tr>\n",
       "    <tr>\n",
       "      <th>3</th>\n",
       "      <td>3</td>\n",
       "      <td>Festing Road</td>\n",
       "      <td>1765000</td>\n",
       "      <td>House</td>\n",
       "      <td>1986</td>\n",
       "      <td>4</td>\n",
       "      <td>4</td>\n",
       "      <td>4</td>\n",
       "      <td>Putney</td>\n",
       "      <td>London</td>\n",
       "      <td>SW15 1LP</td>\n",
       "    </tr>\n",
       "    <tr>\n",
       "      <th>4</th>\n",
       "      <td>4</td>\n",
       "      <td>Spencer Walk</td>\n",
       "      <td>675000</td>\n",
       "      <td>Flat / Apartment</td>\n",
       "      <td>700</td>\n",
       "      <td>2</td>\n",
       "      <td>2</td>\n",
       "      <td>2</td>\n",
       "      <td>Putney</td>\n",
       "      <td>London</td>\n",
       "      <td>SW15 1PL</td>\n",
       "    </tr>\n",
       "  </tbody>\n",
       "</table>\n",
       "</div>"
      ],
      "text/plain": [
       "   Unnamed: 0  Property Name    Price        House Type  Area in sq ft  \\\n",
       "0           0    Queens Road  1675000             House           2716   \n",
       "1           1  Seward Street   650000  Flat / Apartment            814   \n",
       "2           2    Hotham Road   735000  Flat / Apartment            761   \n",
       "3           3   Festing Road  1765000             House           1986   \n",
       "4           4   Spencer Walk   675000  Flat / Apartment            700   \n",
       "\n",
       "   No. of Bedrooms  No. of Bathrooms  No. of Receptions     Location  \\\n",
       "0                5                 5                  5    Wimbledon   \n",
       "1                2                 2                  2  Clerkenwell   \n",
       "2                2                 2                  2       Putney   \n",
       "3                4                 4                  4       Putney   \n",
       "4                2                 2                  2       Putney   \n",
       "\n",
       "  City/County Postal Code  \n",
       "0      London    SW19 8NY  \n",
       "1      London    EC1V 3PA  \n",
       "2      London    SW15 1QL  \n",
       "3      London    SW15 1LP  \n",
       "4      London    SW15 1PL  "
      ]
     },
     "execution_count": 14,
     "metadata": {},
     "output_type": "execute_result"
    }
   ],
   "source": [
    "#Importing the data and viewing the head of the data\n",
    "df = pd.read_csv(\"London.csv\")\n",
    "df.head()"
   ]
  },
  {
   "cell_type": "code",
   "execution_count": 15,
   "metadata": {},
   "outputs": [
    {
     "name": "stdout",
     "output_type": "stream",
     "text": [
      "<class 'pandas.core.frame.DataFrame'>\n",
      "RangeIndex: 3480 entries, 0 to 3479\n",
      "Data columns (total 11 columns):\n",
      " #   Column             Non-Null Count  Dtype \n",
      "---  ------             --------------  ----- \n",
      " 0   Unnamed: 0         3480 non-null   int64 \n",
      " 1   Property Name      3480 non-null   object\n",
      " 2   Price              3480 non-null   int64 \n",
      " 3   House Type         3480 non-null   object\n",
      " 4   Area in sq ft      3480 non-null   int64 \n",
      " 5   No. of Bedrooms    3480 non-null   int64 \n",
      " 6   No. of Bathrooms   3480 non-null   int64 \n",
      " 7   No. of Receptions  3480 non-null   int64 \n",
      " 8   Location           2518 non-null   object\n",
      " 9   City/County        3480 non-null   object\n",
      " 10  Postal Code        3480 non-null   object\n",
      "dtypes: int64(6), object(5)\n",
      "memory usage: 299.2+ KB\n"
     ]
    }
   ],
   "source": [
    "#Checking how much data there is and dtypes\n",
    "df.info()"
   ]
  },
  {
   "cell_type": "code",
   "execution_count": 16,
   "metadata": {},
   "outputs": [
    {
     "data": {
      "text/plain": [
       "London        2972\n",
       "Surrey         262\n",
       "Middlesex       78\n",
       "Essex           62\n",
       "Twickenham      12\n",
       "Name: City/County, dtype: int64"
      ]
     },
     "execution_count": 16,
     "metadata": {},
     "output_type": "execute_result"
    }
   ],
   "source": [
    "#Dataset contains some Surrey and Essex\n",
    "df[\"City/County\"].value_counts().head(5)"
   ]
  },
  {
   "cell_type": "markdown",
   "metadata": {},
   "source": [
    "I'll drop all rows apart from London during cleaning, then drop the column. Some of the counties were London, for example, Twickenham above. However, there was only a small number and they were spread out. "
   ]
  },
  {
   "cell_type": "code",
   "execution_count": 17,
   "metadata": {},
   "outputs": [
    {
     "data": {
      "text/plain": [
       "Putney              96\n",
       "Barnes              71\n",
       "Wandsworth          70\n",
       "Wimbledon           68\n",
       "Esher               64\n",
       "                    ..\n",
       "Medway Street        1\n",
       "22 Bute Gardens      1\n",
       "Kenninghall Road     1\n",
       "Duchess Walk         1\n",
       "22 Ensign Street     1\n",
       "Name: Location, Length: 656, dtype: int64"
      ]
     },
     "execution_count": 17,
     "metadata": {},
     "output_type": "execute_result"
    }
   ],
   "source": [
    "#Location within London should have an influence in housing pricing. As there will be many locations, \n",
    "#I will look at grouping the postcodes, then drop this columms. As they will needed to be converted to columns for modelling\n",
    "df[\"Location\"].value_counts()"
   ]
  },
  {
   "cell_type": "code",
   "execution_count": 18,
   "metadata": {},
   "outputs": [
    {
     "data": {
      "text/html": [
       "<div>\n",
       "<style scoped>\n",
       "    .dataframe tbody tr th:only-of-type {\n",
       "        vertical-align: middle;\n",
       "    }\n",
       "\n",
       "    .dataframe tbody tr th {\n",
       "        vertical-align: top;\n",
       "    }\n",
       "\n",
       "    .dataframe thead th {\n",
       "        text-align: right;\n",
       "    }\n",
       "</style>\n",
       "<table border=\"1\" class=\"dataframe\">\n",
       "  <thead>\n",
       "    <tr style=\"text-align: right;\">\n",
       "      <th></th>\n",
       "      <th>Unnamed: 0</th>\n",
       "      <th>Price</th>\n",
       "      <th>Area in sq ft</th>\n",
       "      <th>No. of Bedrooms</th>\n",
       "      <th>No. of Bathrooms</th>\n",
       "      <th>No. of Receptions</th>\n",
       "    </tr>\n",
       "  </thead>\n",
       "  <tbody>\n",
       "    <tr>\n",
       "      <th>Unnamed: 0</th>\n",
       "      <td>1.000000</td>\n",
       "      <td>0.142117</td>\n",
       "      <td>0.055871</td>\n",
       "      <td>-0.018649</td>\n",
       "      <td>-0.018649</td>\n",
       "      <td>-0.018649</td>\n",
       "    </tr>\n",
       "    <tr>\n",
       "      <th>Price</th>\n",
       "      <td>0.142117</td>\n",
       "      <td>1.000000</td>\n",
       "      <td>0.667710</td>\n",
       "      <td>0.435533</td>\n",
       "      <td>0.435533</td>\n",
       "      <td>0.435533</td>\n",
       "    </tr>\n",
       "    <tr>\n",
       "      <th>Area in sq ft</th>\n",
       "      <td>0.055871</td>\n",
       "      <td>0.667710</td>\n",
       "      <td>1.000000</td>\n",
       "      <td>0.777299</td>\n",
       "      <td>0.777299</td>\n",
       "      <td>0.777299</td>\n",
       "    </tr>\n",
       "    <tr>\n",
       "      <th>No. of Bedrooms</th>\n",
       "      <td>-0.018649</td>\n",
       "      <td>0.435533</td>\n",
       "      <td>0.777299</td>\n",
       "      <td>1.000000</td>\n",
       "      <td>1.000000</td>\n",
       "      <td>1.000000</td>\n",
       "    </tr>\n",
       "    <tr>\n",
       "      <th>No. of Bathrooms</th>\n",
       "      <td>-0.018649</td>\n",
       "      <td>0.435533</td>\n",
       "      <td>0.777299</td>\n",
       "      <td>1.000000</td>\n",
       "      <td>1.000000</td>\n",
       "      <td>1.000000</td>\n",
       "    </tr>\n",
       "    <tr>\n",
       "      <th>No. of Receptions</th>\n",
       "      <td>-0.018649</td>\n",
       "      <td>0.435533</td>\n",
       "      <td>0.777299</td>\n",
       "      <td>1.000000</td>\n",
       "      <td>1.000000</td>\n",
       "      <td>1.000000</td>\n",
       "    </tr>\n",
       "  </tbody>\n",
       "</table>\n",
       "</div>"
      ],
      "text/plain": [
       "                   Unnamed: 0     Price  Area in sq ft  No. of Bedrooms  \\\n",
       "Unnamed: 0           1.000000  0.142117       0.055871        -0.018649   \n",
       "Price                0.142117  1.000000       0.667710         0.435533   \n",
       "Area in sq ft        0.055871  0.667710       1.000000         0.777299   \n",
       "No. of Bedrooms     -0.018649  0.435533       0.777299         1.000000   \n",
       "No. of Bathrooms    -0.018649  0.435533       0.777299         1.000000   \n",
       "No. of Receptions   -0.018649  0.435533       0.777299         1.000000   \n",
       "\n",
       "                   No. of Bathrooms  No. of Receptions  \n",
       "Unnamed: 0                -0.018649          -0.018649  \n",
       "Price                      0.435533           0.435533  \n",
       "Area in sq ft              0.777299           0.777299  \n",
       "No. of Bedrooms            1.000000           1.000000  \n",
       "No. of Bathrooms           1.000000           1.000000  \n",
       "No. of Receptions          1.000000           1.000000  "
      ]
     },
     "execution_count": 18,
     "metadata": {},
     "output_type": "execute_result"
    }
   ],
   "source": [
    "#It looks like the rooms, bathrooms and receptions could be the same in all\n",
    "corr = df.corr()\n",
    "corr"
   ]
  },
  {
   "cell_type": "code",
   "execution_count": 8,
   "metadata": {},
   "outputs": [
    {
     "data": {
      "text/plain": [
       "Flat / Apartment    1565\n",
       "House               1430\n",
       "New development      357\n",
       "Penthouse            100\n",
       "Studio                10\n",
       "Bungalow               9\n",
       "Duplex                 7\n",
       "Mews                   2\n",
       "Name: House Type, dtype: int64"
      ]
     },
     "execution_count": 8,
     "metadata": {},
     "output_type": "execute_result"
    }
   ],
   "source": [
    "#Checking the types of houses there are\n",
    "df[\"House Type\"].value_counts()"
   ]
  },
  {
   "cell_type": "markdown",
   "metadata": {},
   "source": [
    "House type will be dropped for modelling. Area, postcode group and number of rooms will be the features being used."
   ]
  },
  {
   "cell_type": "code",
   "execution_count": 9,
   "metadata": {},
   "outputs": [
    {
     "data": {
      "text/plain": [
       "False    2518\n",
       "True      962\n",
       "Name: Location, dtype: int64"
      ]
     },
     "execution_count": 9,
     "metadata": {},
     "output_type": "execute_result"
    }
   ],
   "source": [
    "df[\"Location\"].isnull().value_counts()"
   ]
  },
  {
   "cell_type": "code",
   "execution_count": 10,
   "metadata": {},
   "outputs": [
    {
     "data": {
      "text/plain": [
       "SW    1525\n",
       "NW     256\n",
       "W1     240\n",
       "KT     191\n",
       "N1     145\n",
       "E1     141\n",
       "TW      93\n",
       "EC      92\n",
       "W4      81\n",
       "HA      66\n",
       "Name: area_code, dtype: int64"
      ]
     },
     "execution_count": 10,
     "metadata": {},
     "output_type": "execute_result"
    }
   ],
   "source": [
    "#Slicing the postal codes so can see the ratios\n",
    "df[\"area_code\"] = df[\"Postal Code\"].apply(lambda x: x[:2])\n",
    "df[\"area_code\"].value_counts().head(10)"
   ]
  },
  {
   "cell_type": "markdown",
   "metadata": {},
   "source": [
    "Looks like the majority of the data is in the SW region. So I won't be using location or post codes within the models."
   ]
  },
  {
   "cell_type": "markdown",
   "metadata": {},
   "source": [
    "# Data cleaning checklist:\n",
    "- Drop Non-London city rows, then drop city/county column\n",
    "- Drop bathrooms, housetype and receptions\n",
    "- Drop NA columns\n",
    "- Change column headers, lowercase, no spaces and create dummy variables for house type\n",
    "- Change Price, area ft and bedrooms to floats"
   ]
  }
 ],
 "metadata": {
  "kernelspec": {
   "display_name": "Python 3",
   "language": "python",
   "name": "python3"
  },
  "language_info": {
   "codemirror_mode": {
    "name": "ipython",
    "version": 3
   },
   "file_extension": ".py",
   "mimetype": "text/x-python",
   "name": "python",
   "nbconvert_exporter": "python",
   "pygments_lexer": "ipython3",
   "version": "3.8.5"
  }
 },
 "nbformat": 4,
 "nbformat_minor": 4
}
